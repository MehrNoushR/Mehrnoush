{
  "nbformat": 4,
  "nbformat_minor": 0,
  "metadata": {
    "colab": {
      "provenance": [],
      "authorship_tag": "ABX9TyMh20aX6STSP+MTQbdl0d+C",
      "include_colab_link": true
    },
    "kernelspec": {
      "name": "python3",
      "display_name": "Python 3"
    },
    "language_info": {
      "name": "python"
    }
  },
  "cells": [
    {
      "cell_type": "markdown",
      "metadata": {
        "id": "view-in-github",
        "colab_type": "text"
      },
      "source": [
        "<a href=\"https://colab.research.google.com/github/MehrNoushR/Mehrnoush/blob/main/GDP.ipynb\" target=\"_parent\"><img src=\"https://colab.research.google.com/assets/colab-badge.svg\" alt=\"Open In Colab\"/></a>"
      ]
    },
    {
      "cell_type": "code",
      "execution_count": null,
      "metadata": {
        "id": "Uxz9HU-wI0gb"
      },
      "outputs": [],
      "source": [
        "import pandas as pd\n",
        "import matplotlib.pyplot as plt\n",
        "import seaborn as sns\n"
      ]
    },
    {
      "cell_type": "markdown",
      "source": [
        "**Data Loading**"
      ],
      "metadata": {
        "id": "q1RFouhMJ8H5"
      }
    },
    {
      "cell_type": "code",
      "source": [
        "# Load the datasets\n",
        "inequality_path = 'inequality.csv'\n",
        "gdp_path ='gdp-per-capita-penn-world-table.csv'"
      ],
      "metadata": {
        "id": "pWcQY7bWKF8K"
      },
      "execution_count": null,
      "outputs": []
    },
    {
      "cell_type": "code",
      "source": [
        "# Reading the CSV files into pandas dataframes\n",
        "inequality_df = pd.read_csv(inequality_path)\n",
        "gdp_df = pd.read_csv(gdp_path)"
      ],
      "metadata": {
        "id": "PrRedTapEN0l"
      },
      "execution_count": null,
      "outputs": []
    },
    {
      "cell_type": "code",
      "source": [
        "# Let's inspect the first few rows of each dataset to understand their structure\n",
        "inequality_head = inequality_df.head()\n",
        "gdp_head = gdp_df.head()"
      ],
      "metadata": {
        "id": "95OXKI7vK-aV"
      },
      "execution_count": null,
      "outputs": []
    },
    {
      "cell_type": "code",
      "source": [
        "inequality_head"
      ],
      "metadata": {
        "id": "SE1O7eiJLogI"
      },
      "execution_count": null,
      "outputs": []
    },
    {
      "cell_type": "markdown",
      "source": [
        "The inequality.csv dataset contains several columns, including:\n",
        "\n",
        "Country, year, Gini coeffient (before tax), income shares of various percentiles (richest 10%, 1%, 0.1%, and poorest 50%)\n",
        "and more...\n"
      ],
      "metadata": {
        "id": "C2T4EYTpIQjs"
      }
    },
    {
      "cell_type": "code",
      "source": [
        "gdp_head"
      ],
      "metadata": {
        "id": "0ff0JHI9L5DK"
      },
      "execution_count": null,
      "outputs": []
    },
    {
      "cell_type": "markdown",
      "source": [
        "The gdp-per-capita-penn-world-table.csv dataset is simpler, with the following columns:\n",
        "\n",
        "Entity(Country)\n",
        "Code (Country code)\n",
        "Year\n",
        "GDP per capita(output, multiple price benchmarks)\n",
        "\n",
        "\n",
        "\n",
        "\n",
        "Let's identify the range of years covered and the number of countries in both datasets to understand how much alignment isnecessary"
      ],
      "metadata": {
        "id": "WZGFA5dVMApo"
      }
    },
    {
      "cell_type": "code",
      "source": [
        "inequality_years_range = (inequality_df['Year'].min(), inequality_df['Year'].max())\n",
        "gdp_years_range = (gdp_df['Year'].min(), gdp_df['Year'].max())\n",
        "\n",
        "inequality_countries_count = inequality_df['Country'].nunique()\n",
        "gdp_countries_count = gdp_df['Entity'].nunique()"
      ],
      "metadata": {
        "id": "kyTm8HWkMhOx"
      },
      "execution_count": null,
      "outputs": []
    },
    {
      "cell_type": "code",
      "source": [
        "(inequality_years_range, gdp_years_range, inequality_countries_count, gdp_countries_count)"
      ],
      "metadata": {
        "id": "Qn5ORFPTO3aC"
      },
      "execution_count": null,
      "outputs": []
    },
    {
      "cell_type": "markdown",
      "source": [
        "Here's the data we have:\n",
        "\n",
        "• The inequality.csv dataset spans from 1807 to 2021 andincludes data for 215 unique countries.\n",
        "\n",
        "\n",
        "• The\n",
        "gdp-per-capita-penn-world-table.csv dataset convers the years 1950 to 2019 and has data for 182 unique countries."
      ],
      "metadata": {
        "id": "o3E5alLoPYL1"
      }
    },
    {
      "cell_type": "markdown",
      "source": [
        "Filter both datasets to the overlapping\n",
        "years 1950-2019"
      ],
      "metadata": {
        "id": "P8zJRJY3Q95u"
      }
    },
    {
      "cell_type": "code",
      "source": [
        "inequality_filtered =inequality_df[(inequality_df['Year'] >= 1950) & (inequality_df['Year'] <= 2019)]\n",
        "gdp_filtered = gdp_df[(gdp_df['Year'] >= 1950) & (gdp_df['Year'] <= 2019)]"
      ],
      "metadata": {
        "id": "WqT-SY4mafqp"
      },
      "execution_count": null,
      "outputs": []
    },
    {
      "cell_type": "markdown",
      "source": [
        "Align the country names and filter out countries that do not appear in both datasets"
      ],
      "metadata": {
        "id": "giIWcpIKADWT"
      }
    },
    {
      "cell_type": "code",
      "source": [
        "# We'll create a set of common countries present in both  datasets\n",
        "common_countries = set( inequality_filtered['Country']).intersection(set(gdp_filtered['Entity']))"
      ],
      "metadata": {
        "id": "YRPQxyYtAUL3"
      },
      "execution_count": null,
      "outputs": []
    },
    {
      "cell_type": "markdown",
      "source": [
        "Filter the dataset to include only the common countries"
      ],
      "metadata": {
        "id": "RKhJY6gHBMyu"
      }
    },
    {
      "cell_type": "code",
      "source": [
        "inequality_aligned = inequality_filtered[inequality_filtered['Country'].isin(common_countries)]\n",
        "gdp_aligned = gdp_filtered[gdp_filtered['Entity'].isin(common_countries)]"
      ],
      "metadata": {
        "id": "XyR6N_GpBVPr"
      },
      "execution_count": null,
      "outputs": []
    },
    {
      "cell_type": "markdown",
      "source": [
        "Resample the data if necessary to ensure one value per year per country"
      ],
      "metadata": {
        "id": "rMf7N1IcB-mB"
      }
    },
    {
      "cell_type": "code",
      "source": [
        "# Check if there is more than one entry per country per year in each dataset\n",
        "inequality_duplicates = inequality_aligned.duplicated(subset=['Country', 'Year'], keep=False)\n",
        "gdp_duplicates = gdp_aligned.duplicated(subset=['Entity', 'Year'], keep=False)\n",
        "\n",
        "# Summarize the number of duplicate entries (if any)\n",
        "inequality_duplicates_sum = inequality_duplicates.sum()\n",
        "gdp_duplicates_sum = gdp_duplicates.sum()\n",
        "\n",
        "(inequality_duplicates_sum, gdp_duplicates_sum)"
      ],
      "metadata": {
        "id": "udLlsC6QCMj2"
      },
      "execution_count": null,
      "outputs": []
    },
    {
      "cell_type": "markdown",
      "source": [
        "Merge these two datasets on the common columns 'Country'and 'Year', so that each row has the GDP per capita and the Gini coefficient for given countrty and year. After that, we can calculate the correlation coefficient for the aligned data."
      ],
      "metadata": {
        "id": "Z7JrQZY8DxWW"
      }
    },
    {
      "cell_type": "code",
      "source": [
        "# Rename the columns to facilitate the merge\n",
        "gdp_aligned = gdp_aligned.rename(columns={\"Entity\": \"Country\",\n",
        "                                          \"GDP per capita (output, ,multiple price benchmarks)\" : \"GDP per capita\"})\n",
        "\n",
        "# Merge the dataset on 'Country' and 'Year'\n",
        "merged_data = pd.merge(inequality_aligned, gdp_aligned, on=['Country', 'Year'])\n",
        "\n",
        "# Focus on the relevant columns 'Gini coefficient (before tax)' and 'GDP per capita'\n",
        "# We will also drop any rows that have NaN values in these columns as they cannot be used in correlation analysis\n",
        "merged_data_relevant = merged_data[['Country', 'Year', 'Gini coefficient (before tax) (World Inequality Database)', 'GDP per capita']].dropna()\n",
        "\n",
        "\n",
        "# Calculate the correlation coefficient for the aligned data\n",
        "correlation = merged_data_relevan[['Gini coefficient (before tax) (World Inequality Database)', 'GDP per capita']].corr()\n",
        "\n",
        "correlation"
      ],
      "metadata": {
        "id": "_aw-6V_wEXbj"
      },
      "execution_count": null,
      "outputs": []
    },
    {
      "cell_type": "markdown",
      "source": [
        "Visualization\n"
      ],
      "metadata": {
        "id": "DrrrRvaFIEZ8"
      }
    },
    {
      "cell_type": "code",
      "source": [
        "# Set the aesthetic style of the plots\n",
        "sns.set_style(\"Whitegrid\")\n",
        "\n",
        "# Plotting the relationship between GDP per capita and Gini coefficient\n",
        "plt.figure(figsize=(10, 6))\n",
        "sns.scatterplot(x='GDP per capita', y='Gini coefficient (before tax) (World Inequality Database)',\n",
        "                data=merged_data_relevant, edgecolor='none', alpha=0.7)\n",
        "\n",
        "plt.title('GDP per Capita vs Gini Coefficient')\n",
        "plt.xlable('GDP per Capica (in international $)')\n",
        "plt.ylabel ('Gini Coefficient (before tax)')\n",
        "plt.show()"
      ],
      "metadata": {
        "id": "yfSpSrwpIJ8q"
      },
      "execution_count": null,
      "outputs": []
    },
    {
      "cell_type": "markdown",
      "source": [
        "Questions\n",
        "\n",
        "1. Is there a relation between a country's Gross Domestic Product (GDP) and its income  inequality?\n",
        "\n",
        "\n",
        "Based on the data we have analyzed, there appears to be a negative correlation between a country's GDP per caoita and its income inequality as measured by the Gini coefficient. The Pearson correlation coefficient is approximately -0.329, indicating that, on average, higher GDP per capita is associated with lower income inequality.\n",
        "\n",
        "\n",
        "\n",
        "2. Difference between correlation and causation\n",
        "\n",
        "\n",
        "It is important to note that the observed correlation does not establish causation. The relationship suggests a pattern but does not confirm that higher GDP per capita directly causes lower income inequality or vice versa. There may be other factors (an unknown C) influencing both GDP per capita and income inequality, such as educational attainment, tax policies, social welfare programs, or economic structure.\n",
        "\n",
        "\n",
        "\n",
        "3. Gini coenffient as a measure of income inequality\n",
        "\n",
        "\n",
        "The Gini coefficient is a widely used measure of income inequality whitin a country. The closer the Gini coenffient is to 1, the higher the inequality; a coefficient closer to 0 suggests more equality. The dataset inequality.csv provides Gini coefficients for various countries, which we used to measurwe income inequality.\n",
        "\n",
        "\n",
        "\n",
        "4.Historical GDP data\n",
        "\n",
        "\n",
        " The dataset  gdp-per-capita-penn-world-table.csv contains historical GDP per capita data. This measure seves as an indicator of the economic output per person and is often used as a proxy for the average standard of living or economic well-being whitin a country.\n",
        "\n",
        "\n",
        " 5.Correlation coefficient calculation\n",
        "\n",
        "\n",
        " To calculate the correlation coefficient, we first aligned the datasets by filtering for common countries and years. We then merged then datasets and focused on the relevant columns for GDP per capita and the Gini coefficient . No resampling was necessary, as there was only one entry per country per year. The calculated Pearson correlation coefficient is a statistical measure of the linear relationship between the two variables.\n"
      ],
      "metadata": {
        "id": "FxwDGPMkXkmE"
      }
    }
  ]
}